{
  "cells": [
    {
      "cell_type": "code",
      "execution_count": null,
      "metadata": {
        "collapsed": false
      },
      "outputs": [],
      "source": [
        "%matplotlib inline"
      ]
    },
    {
      "cell_type": "markdown",
      "metadata": {},
      "source": [
        "\n",
        "# Plotting Earth relief\n",
        "\n",
        "Plotting a map of Earth relief can use the data accessed by the\n",
        ":meth:`pygmt.datasets.load_earth_relief` method. The data can then be plotted using the\n",
        ":meth:`pygmt.Figure.grdimage` method.\n",
        "\n",
        "<div class=\"alert alert-info\"><h4>Note</h4><p>This tutorial assumes the use of a Python notebook, such as IPython or Jupyter Notebook.\n",
        "    To see the figures while using a Python script instead, use\n",
        "    ``fig.show(method=\"external)`` to display the figure in the default PDF viewer.\n",
        "\n",
        "    To save the figure, use ``fig.savefig(\"figname.pdf\")`` where ``\"figname.pdf\"``\n",
        "    is the desired name and file extension for the saved figure.</p></div>\n"
      ]
    },
    {
      "cell_type": "code",
      "execution_count": null,
      "metadata": {
        "collapsed": false
      },
      "outputs": [],
      "source": [
        "import pygmt"
      ]
    },
    {
      "cell_type": "markdown",
      "metadata": {},
      "source": [
        "Load sample Earth relief data for the entire globe at a resolution of 1 arc degree.\n",
        "The other available resolutions are show\n",
        "at :gmt-docs:`datasets/remote-data.html#global-earth-relief-grids`.\n",
        "\n"
      ]
    },
    {
      "cell_type": "code",
      "execution_count": null,
      "metadata": {
        "collapsed": false
      },
      "outputs": [],
      "source": [
        "grid = pygmt.datasets.load_earth_relief(resolution=\"01d\")"
      ]
    },
    {
      "cell_type": "markdown",
      "metadata": {},
      "source": [
        "## Create a plot\n",
        "\n",
        "The :meth:`pygmt.Figure.grdimage` method takes the ``grid`` input to\n",
        "create a figure. It creates and applies a color palette to the figure based upon the\n",
        "z-values of the data. By default, it plots the map with the *turbo* CPT, an\n",
        "equidistant cylindrical projection, and with no frame.\n",
        "\n"
      ]
    },
    {
      "cell_type": "code",
      "execution_count": null,
      "metadata": {
        "collapsed": false
      },
      "outputs": [],
      "source": [
        "fig = pygmt.Figure()\n",
        "fig.grdimage(grid=grid)\n",
        "fig.show()"
      ]
    },
    {
      "cell_type": "markdown",
      "metadata": {},
      "source": [
        ":meth:`pygmt.Figure.grdimage` can take the optional argument ``projection`` for the\n",
        "map. In the example below, the ``projection`` is set as ``R12c`` for 12 centimeter\n",
        "figure with a Winkel Tripel projection. For a list of available projections,\n",
        "see :gmt-docs:`cookbook/map-projections.html`.\n",
        "\n"
      ]
    },
    {
      "cell_type": "code",
      "execution_count": null,
      "metadata": {
        "collapsed": false
      },
      "outputs": [],
      "source": [
        "fig = pygmt.Figure()\n",
        "fig.grdimage(grid=grid, projection=\"R12c\")\n",
        "fig.show()"
      ]
    },
    {
      "cell_type": "markdown",
      "metadata": {},
      "source": [
        "## Set a color map\n",
        "\n",
        ":meth:`pygmt.Figure.grdimage` takes the ``cmap`` argument to set the CPT of the\n",
        "figure. Examples of common CPTs for Earth relief are shown below.\n",
        "A full list of CPTs can be found at :gmt-docs:`cookbook/cpts.html`.\n",
        "\n"
      ]
    },
    {
      "cell_type": "markdown",
      "metadata": {},
      "source": [
        "Using the *geo* CPT:\n",
        "\n"
      ]
    },
    {
      "cell_type": "code",
      "execution_count": null,
      "metadata": {
        "collapsed": false
      },
      "outputs": [],
      "source": [
        "fig = pygmt.Figure()\n",
        "fig.grdimage(grid=grid, projection=\"R12c\", cmap=\"geo\")\n",
        "fig.show()"
      ]
    },
    {
      "cell_type": "markdown",
      "metadata": {},
      "source": [
        "Using the *relief* CPT:\n",
        "\n"
      ]
    },
    {
      "cell_type": "code",
      "execution_count": null,
      "metadata": {
        "collapsed": false
      },
      "outputs": [],
      "source": [
        "fig = pygmt.Figure()\n",
        "fig.grdimage(grid=grid, projection=\"R12c\", cmap=\"relief\")\n",
        "fig.show()"
      ]
    },
    {
      "cell_type": "markdown",
      "metadata": {},
      "source": [
        "## Add a color bar\n",
        "\n",
        "The :meth:`pygmt.Figure.colorbar` method displays the CPT and the associated Z-values\n",
        "of the figure, and by default uses the same CPT set by the ``cmap`` argument\n",
        "for :meth:`pygmt.Figure.grdimage`. The ``frame`` argument for\n",
        ":meth:`pygmt.Figure.colorbar` can be used to set the axis intervals and labels. A\n",
        "list is used to pass multiple arguments to ``frame``. In the example below,\n",
        "``a2500`` sets the axis interval to 2,500, ``x+lElevation`` sets the x-axis\n",
        "label, and ``y+lm`` sets the y-axis label.\n",
        "\n"
      ]
    },
    {
      "cell_type": "code",
      "execution_count": null,
      "metadata": {
        "collapsed": false
      },
      "outputs": [],
      "source": [
        "fig = pygmt.Figure()\n",
        "fig.grdimage(grid=grid, projection=\"R12c\", cmap=\"geo\")\n",
        "fig.colorbar(frame=[\"a2500\", \"x+lElevation\", \"y+lm\"])\n",
        "fig.show()"
      ]
    },
    {
      "cell_type": "markdown",
      "metadata": {},
      "source": []
    },
    {
      "cell_type": "markdown",
      "metadata": {},
      "source": [
        "## Create a region map\n",
        "\n",
        "In addition to providing global data, the ``region`` argument for\n",
        ":meth:`pygmt.datasets.load_earth_relief` can be used to provide data for a specific\n",
        "area. The ``region`` argument is required for resolutions at 5 arc minutes or higher,\n",
        "and accepts a list (as in the example below) or a string. The geographic ranges are\n",
        "passed as *xmin*/*xmax*/*ymin*/*ymax*.\n",
        "\n",
        "The example below uses data with a 10 arc minute resolution, and plots it on a\n",
        "15 centimeter figure with a Mercator projection and a CPT set to *geo*.\n",
        "``frame=\"a\"`` is used to add a frame to the figure.\n",
        "\n"
      ]
    },
    {
      "cell_type": "code",
      "execution_count": null,
      "metadata": {
        "collapsed": false
      },
      "outputs": [],
      "source": [
        "grid = pygmt.datasets.load_earth_relief(resolution=\"10m\", region=[-14, 30, 35, 60])\n",
        "fig = pygmt.Figure()\n",
        "fig.grdimage(grid=grid, projection=\"M15c\", frame=\"a\", cmap=\"geo\")\n",
        "fig.colorbar(frame=[\"a1000\", \"x+lElevation\", \"y+lm\"])\n",
        "fig.show()"
      ]
    }
  ],
  "metadata": {
    "kernelspec": {
      "display_name": "Python 3",
      "language": "python",
      "name": "python3"
    },
    "language_info": {
      "codemirror_mode": {
        "name": "ipython",
        "version": 3
      },
      "file_extension": ".py",
      "mimetype": "text/x-python",
      "name": "python",
      "nbconvert_exporter": "python",
      "pygments_lexer": "ipython3",
      "version": "3.9.1"
    }
  },
  "nbformat": 4,
  "nbformat_minor": 0
}
